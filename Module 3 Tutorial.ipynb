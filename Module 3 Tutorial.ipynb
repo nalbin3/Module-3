{
 "cells": [
  {
   "cell_type": "code",
   "execution_count": 5,
   "id": "eafee50e-88b5-44b5-9a34-7bdac85d4f39",
   "metadata": {},
   "outputs": [
    {
     "name": "stdout",
     "output_type": "stream",
     "text": [
      "0 0 1 1 2 2 \n",
      "0 0 1 1 2 2 "
     ]
    }
   ],
   "source": [
    "class Solution:\n",
    "    def sort012(self, arr):\n",
    "        n = len(arr)\n",
    "        lo = 0\n",
    "        hi = n - 1\n",
    "        mid = 0\n",
    "\n",
    "        while mid <= hi:\n",
    "            if arr[mid] == 0:\n",
    "                arr[lo], arr[mid] = arr[mid], arr[lo]\n",
    "                lo = lo + 1\n",
    "                mid = mid + 1\n",
    "                \n",
    "            elif arr[mid] == 1:\n",
    "                mid = mid + 1\n",
    "                \n",
    "            else:\n",
    "                arr[mid], arr[hi] = arr[hi], arr[mid]\n",
    "                hi = hi - 1\n",
    "                \n",
    "        return arr\n",
    "\n",
    "# Define a standalone function for use outside the class\n",
    "def sort012(arr):\n",
    "    # Create an instance of Solution and use its method\n",
    "    solution = Solution()\n",
    "    return solution.sort012(arr)\n",
    "\n",
    "# Test case 1\n",
    "arr1 = [0, 1, 2, 0, 1, 2]\n",
    "arr1 = sort012(arr1)\n",
    "\n",
    "for x in arr1:\n",
    "    print(x, end=\" \")\n",
    "\n",
    "print()  # Add a newline between outputs\n",
    "\n",
    "# Test case 2\n",
    "arr2 = [0, 1, 2, 0, 1, 2]\n",
    "sort012(arr2)  # Note: this doesn't update arr2 since we're not capturing the return value\n",
    "\n",
    "for x in arr2:\n",
    "    print(x, end=\" \")"
   ]
  },
  {
   "cell_type": "code",
   "execution_count": 9,
   "id": "44d0e10b-9a9b-4152-ab8f-8b8ef208a804",
   "metadata": {},
   "outputs": [],
   "source": [
    "#pt.2\n",
    "class Solution:\n",
    "    def binarysearch(self, arr, k):\n",
    "        left, right = 0, len(arr) - 1\n",
    "        result = -1\n",
    "\n",
    "        while left <= right:\n",
    "            mid = left + (right - left) // 2\n",
    "\n",
    "            if arr[mid] == k:\n",
    "                result = mid\n",
    "                right = mid - 1\n",
    "            elif arr[mid] < k:\n",
    "                left = mid + 1\n",
    "            else:\n",
    "                right = mid - 1\n",
    "\n",
    "        return result"
   ]
  },
  {
   "cell_type": "code",
   "execution_count": 10,
   "id": "e97c3d98-166c-4442-b26d-3b0018873a2c",
   "metadata": {},
   "outputs": [],
   "source": [
    "k = 4"
   ]
  },
  {
   "cell_type": "code",
   "execution_count": null,
   "id": "b9a9a6ac-910e-4380-b5b1-1379c9a14fc3",
   "metadata": {},
   "outputs": [],
   "source": []
  }
 ],
 "metadata": {
  "kernelspec": {
   "display_name": "Python [conda env:base] *",
   "language": "python",
   "name": "conda-base-py"
  },
  "language_info": {
   "codemirror_mode": {
    "name": "ipython",
    "version": 3
   },
   "file_extension": ".py",
   "mimetype": "text/x-python",
   "name": "python",
   "nbconvert_exporter": "python",
   "pygments_lexer": "ipython3",
   "version": "3.12.7"
  }
 },
 "nbformat": 4,
 "nbformat_minor": 5
}
