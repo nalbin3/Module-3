{
 "cells": [
  {
   "cell_type": "code",
   "execution_count": 3,
   "id": "27b0aeb1-f551-443e-8abe-1a98ab6107b8",
   "metadata": {},
   "outputs": [
    {
     "ename": "SyntaxError",
     "evalue": "'return' outside function (3320527239.py, line 22)",
     "output_type": "error",
     "traceback": [
      "\u001b[1;36m  Cell \u001b[1;32mIn[3], line 22\u001b[1;36m\u001b[0m\n\u001b[1;33m    return arr\u001b[0m\n\u001b[1;37m    ^\u001b[0m\n\u001b[1;31mSyntaxError\u001b[0m\u001b[1;31m:\u001b[0m 'return' outside function\n"
     ]
    }
   ],
   "source": [
    "class Solution:\n",
    "    def sort012(self, arr):\n",
    "        def sort012(arr):\n",
    "            n = len(arr)\n",
    "            lo = 0\n",
    "            hi = n - 1\n",
    "            mid = 0\n",
    "\n",
    "    while mid <= hi:\n",
    "      if arr[mid] == 0:\n",
    "        arr[lo], arr[mid] = arr[mid], arr[lo]\n",
    "        lo = lo + 1\n",
    "        mid = mid + 1\n",
    "        \n",
    "      elif arr[mid] == 1:\n",
    "        mid = mid + 1\n",
    "        \n",
    "      else:\n",
    "        arr[mid], arr[hi] = arr[hi], arr[mid]\n",
    "        hi = hi - 1\n",
    "        \n",
    "    return arr\n",
    "\n",
    "arr = [0, 1, 2, 0, 1, 2]\n",
    "arr = sort012(arr)\n",
    "\n",
    "for x in arr:\n",
    "    print(x, end=\" \")\n",
    "\n",
    "arr = [0, 1, 2, 0, 1, 2]\n",
    "sort012(arr)\n",
    "\n",
    "for x in arr:\n",
    "  print(x, end = \" \")"
   ]
  },
  {
   "cell_type": "markdown",
   "id": "070b1dc0-ab1d-4bad-9334-fd3b642be227",
   "metadata": {},
   "source": [
    "# Assistant\n",
    "The error occurs because the indentation in your code is incorrect. The `while` loop and everything after it is not properly indented inside the `sort012` function. Additionally, you have a nested function with the same name, which is causing confusion.\n",
    "\n",
    "Would you like me to provide the corrected code?"
   ]
  },
  {
   "cell_type": "code",
   "execution_count": null,
   "id": "021a34f1-2f74-46e0-9357-ff1eafafe94e",
   "metadata": {},
   "outputs": [],
   "source": []
  },
  {
   "cell_type": "code",
   "execution_count": 2,
   "id": "8af8600b-d236-483b-b194-91de9b8df49d",
   "metadata": {},
   "outputs": [
    {
     "name": "stdout",
     "output_type": "stream",
     "text": [
      "0 0 1 1 2 2 \n",
      "0 0 1 1 2 2 "
     ]
    }
   ],
   "source": [
    "\n",
    "class Solution:\n",
    "    def sort012(self, arr):\n",
    "        n = len(arr)\n",
    "        lo = 0\n",
    "        hi = n - 1\n",
    "        mid = 0\n",
    "\n",
    "        while mid <= hi:\n",
    "            if arr[mid] == 0:\n",
    "                arr[lo], arr[mid] = arr[mid], arr[lo]\n",
    "                lo = lo + 1\n",
    "                mid = mid + 1\n",
    "                \n",
    "            elif arr[mid] == 1:\n",
    "                mid = mid + 1\n",
    "                \n",
    "            else:\n",
    "                arr[mid], arr[hi] = arr[hi], arr[mid]\n",
    "                hi = hi - 1\n",
    "                \n",
    "        return arr\n",
    "\n",
    "# Define the standalone function (outside the class)\n",
    "def sort012(arr):\n",
    "    n = len(arr)\n",
    "    lo = 0\n",
    "    hi = n - 1\n",
    "    mid = 0\n",
    "\n",
    "    # Iterate till all the elements are sorted\n",
    "    while mid <= hi:\n",
    "        if arr[mid] == 0:\n",
    "            arr[lo], arr[mid] = arr[mid], arr[lo]\n",
    "            lo = lo + 1\n",
    "            mid = mid + 1\n",
    "            \n",
    "        elif arr[mid] == 1:\n",
    "            mid = mid + 1\n",
    "            \n",
    "        else:\n",
    "            arr[mid], arr[hi] = arr[hi], arr[mid]\n",
    "            hi = hi - 1\n",
    "            \n",
    "    return arr\n",
    "\n",
    "# First example using the standalone function\n",
    "arr = [0, 1, 2, 0, 1, 2]\n",
    "sorted_arr = sort012(arr)  # Store the returned array\n",
    "\n",
    "for x in sorted_arr:\n",
    "    print(x, end=\" \")\n",
    "\n",
    "print()  # Add a newline between outputs\n",
    "\n",
    "# Second example using the standalone function\n",
    "arr = [0, 1, 2, 0, 1, 2]\n",
    "sorted_arr = sort012(arr)  # Store the returned array\n",
    "\n",
    "for x in sorted_arr:\n",
    "    print(x, end=\" \")"
   ]
  }
 ],
 "metadata": {
  "kernelspec": {
   "display_name": "Python [conda env:base] *",
   "language": "python",
   "name": "conda-base-py"
  },
  "language_info": {
   "codemirror_mode": {
    "name": "ipython",
    "version": 3
   },
   "file_extension": ".py",
   "mimetype": "text/x-python",
   "name": "python",
   "nbconvert_exporter": "python",
   "pygments_lexer": "ipython3",
   "version": "3.12.7"
  }
 },
 "nbformat": 4,
 "nbformat_minor": 5
}
